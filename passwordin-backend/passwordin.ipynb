{
 "cells": [
  {
   "cell_type": "code",
   "execution_count": 3,
   "metadata": {},
   "outputs": [
    {
     "name": "stdout",
     "output_type": "stream",
     "text": [
      "_BJrzUND6DkRi7POyj99Jor7M3JBV2C3SGR2pJfsNDsRibsDUXkCV2H4DDQZlWmvNWM\n"
     ]
    }
   ],
   "source": [
    "import secrets\n",
    "\n",
    "secret_key = secrets.token_urlsafe(50)\n",
    "print(secret_key)"
   ]
  },
  {
   "cell_type": "code",
   "execution_count": 1,
   "metadata": {},
   "outputs": [
    {
     "ename": "AttributeError",
     "evalue": "module 'cryptography.hazmat.primitives.ciphers.algorithms' has no attribute 'SHA256'",
     "output_type": "error",
     "traceback": [
      "\u001b[0;31m---------------------------------------------------------------------------\u001b[0m",
      "\u001b[0;31mAttributeError\u001b[0m                            Traceback (most recent call last)",
      "Cell \u001b[0;32mIn[1], line 14\u001b[0m\n\u001b[1;32m     10\u001b[0m iterations \u001b[39m=\u001b[39m \u001b[39m100000\u001b[39m\n\u001b[1;32m     12\u001b[0m \u001b[39m# Derive a binary seed from the mnemonic using PBKDF2\u001b[39;00m\n\u001b[1;32m     13\u001b[0m kdf \u001b[39m=\u001b[39m PBKDF2HMAC(\n\u001b[0;32m---> 14\u001b[0m     algorithm\u001b[39m=\u001b[39malgorithms\u001b[39m.\u001b[39;49mSHA256(),\n\u001b[1;32m     15\u001b[0m     length\u001b[39m=\u001b[39m\u001b[39m32\u001b[39m,  \u001b[39m# AES-256 key size\u001b[39;00m\n\u001b[1;32m     16\u001b[0m     salt\u001b[39m=\u001b[39msalt,\n\u001b[1;32m     17\u001b[0m     iterations\u001b[39m=\u001b[39miterations,\n\u001b[1;32m     18\u001b[0m     backend\u001b[39m=\u001b[39mdefault_backend()\n\u001b[1;32m     19\u001b[0m )\n\u001b[1;32m     20\u001b[0m seed \u001b[39m=\u001b[39m kdf\u001b[39m.\u001b[39mderive(mnemonic\u001b[39m.\u001b[39mencode())\n\u001b[1;32m     22\u001b[0m \u001b[39m# Encrypt a message using AES-256 in CBC mode\u001b[39;00m\n",
      "File \u001b[0;32m~/.pyenv/versions/3.9.16/lib/python3.9/site-packages/cryptography/utils.py:73\u001b[0m, in \u001b[0;36m_ModuleWithDeprecations.__getattr__\u001b[0;34m(self, attr)\u001b[0m\n\u001b[1;32m     72\u001b[0m \u001b[39mdef\u001b[39;00m \u001b[39m__getattr__\u001b[39m(\u001b[39mself\u001b[39m, attr: \u001b[39mstr\u001b[39m) \u001b[39m-\u001b[39m\u001b[39m>\u001b[39m \u001b[39mobject\u001b[39m:\n\u001b[0;32m---> 73\u001b[0m     obj \u001b[39m=\u001b[39m \u001b[39mgetattr\u001b[39;49m(\u001b[39mself\u001b[39;49m\u001b[39m.\u001b[39;49m_module, attr)\n\u001b[1;32m     74\u001b[0m     \u001b[39mif\u001b[39;00m \u001b[39misinstance\u001b[39m(obj, _DeprecatedValue):\n\u001b[1;32m     75\u001b[0m         warnings\u001b[39m.\u001b[39mwarn(obj\u001b[39m.\u001b[39mmessage, obj\u001b[39m.\u001b[39mwarning_class, stacklevel\u001b[39m=\u001b[39m\u001b[39m2\u001b[39m)\n",
      "\u001b[0;31mAttributeError\u001b[0m: module 'cryptography.hazmat.primitives.ciphers.algorithms' has no attribute 'SHA256'"
     ]
    }
   ],
   "source": [
    "from cryptography.hazmat.primitives.kdf.pbkdf2 import PBKDF2HMAC\n",
    "from cryptography.hazmat.primitives.ciphers import Cipher, algorithms, modes\n",
    "from cryptography.hazmat.backends import default_backend\n",
    "\n",
    "# Mnemonic phrase (example)\n",
    "mnemonic = \"all loyal ole swim oblige bulk horror whip tissue need spoon field express\"\n",
    "\n",
    "# Salt and iteration count for key derivation\n",
    "salt = b\"salt for key derivation\"\n",
    "iterations = 100000\n",
    "\n",
    "# Derive a binary seed from the mnemonic using PBKDF2\n",
    "kdf = PBKDF2HMAC(\n",
    "    algorithm=algorithms.SHA256(),\n",
    "    length=32,  # AES-256 key size\n",
    "    salt=salt,\n",
    "    iterations=iterations,\n",
    "    backend=default_backend()\n",
    ")\n",
    "seed = kdf.derive(mnemonic.encode())\n",
    "\n",
    "# Encrypt a message using AES-256 in CBC mode\n",
    "message = b\"some secret message\"\n",
    "iv = b\"initialization vector\"\n",
    "cipher = Cipher(algorithms.AES(seed), modes.CBC(iv), backend=default_backend())\n",
    "encryptor = cipher.encryptor()\n",
    "ciphertext = encryptor.update(message) + encryptor.finalize()\n",
    "\n",
    "# Decrypt the ciphertext using the same key and IV\n",
    "decryptor = cipher.decryptor()\n",
    "plaintext = decryptor.update(ciphertext) + decryptor.finalize()\n",
    "\n",
    "print(\"Original message:\", message)\n",
    "print(\"Decrypted message:\", plaintext)\n"
   ]
  },
  {
   "cell_type": "code",
   "execution_count": null,
   "metadata": {},
   "outputs": [],
   "source": []
  }
 ],
 "metadata": {
  "kernelspec": {
   "display_name": "Python 3",
   "language": "python",
   "name": "python3"
  },
  "language_info": {
   "codemirror_mode": {
    "name": "ipython",
    "version": 3
   },
   "file_extension": ".py",
   "mimetype": "text/x-python",
   "name": "python",
   "nbconvert_exporter": "python",
   "pygments_lexer": "ipython3",
   "version": "3.9.16"
  },
  "orig_nbformat": 4
 },
 "nbformat": 4,
 "nbformat_minor": 2
}
